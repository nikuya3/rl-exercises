{
 "cells": [
  {
   "cell_type": "markdown",
   "metadata": {},
   "source": [
    "# Policy Gradient Methods\n",
    "\n",
    "This notebook contains implementations of four policy gradient methods: a vanilla implementation of the REINFORCE algorithm, a variant of REINFORCE with a learned value function as baseline, one-step Actor-Critic and Actor-Critic with eligibility traces. The policy $\\pi(a|s)$ is approximated using a quasi-linear function $\\hat{\\pi}(a|s,\\boldsymbol{\\theta})=softmax(s\\boldsymbol{\\theta})$ with $\\boldsymbol{\\theta} \\in \\mathbb{R}^{|S| \\times |A|}$. Other, more powerful function approximators could also be used (e.g. neural network), but as can be seen below, for simple task the linear method suffices. It has been chosen since it illustrates better what is going on under the hood.\n",
    "\n",
    "Arguably the most important computation in the algorithms is the gradient of the log-probability $\\nabla \\log \\pi(A_t|S_t,\\boldsymbol{\\theta})$. In the case of the above function $\\nabla \\hat{\\pi}(A_t|S_t,\\boldsymbol{\\theta})=\\nabla softmax_{A_t}(S_t\\boldsymbol{\\theta})= softmax_{A_t}(s\\boldsymbol{\\theta}) S_t$, i.e. the gradient of the softmax probability of $A_t$ given $S_t$ is the softmax probability times $S_t$. Thus, the gradient reduces to $\\nabla \\log \\pi(A_t|S_t,\\boldsymbol{\\theta})= \\frac{\\nabla \\hat{\\pi}(A_t|S_t,\\boldsymbol{\\theta})}{\\hat{\\pi}(A_t|S_t,\\boldsymbol{\\theta})}=\\frac{softmax_{A_t}(S_t\\boldsymbol{\\theta}) S_t}{softmax_{A_t}(S_t\\boldsymbol{\\theta})}=S_t$. It is clear that the chosen quasi-linear function greatly reduces the computational load. Also, it enables to compute the gradient by hand instead of relying on autodiff packages.\n",
    "\n",
    "The learned value function for the Actor-Critic methods is chosen likewise, i.e. $\\hat{v}(s,\\mathbf{w})=s\\mathbf{w}$ with $\\mathbf{w}\\in\\mathbb{R}^{|S|}$.\n",
    "\n",
    "In order to compare the methods, they are all trained on one environment: the well-known cart pole task. However, the algorithms are implemented to use the `Env` abstraction provided by the `gym` package. In principle, each algorithm can be used with every task which implements the `Env` class (and represents the state and action spaces using `Box` or `Discrete`).\n",
    "\n",
    "Actions are chosen randomly, but according to their probabilities. At each step $t$ action $A_t$ is sampled randomly from $A$, but each action $A_i \\in A$ is assigned its softmax probability $softmax_{A_i}(S_t\\boldsymbol{\\theta})$ as weight. It would also be possible to greedily choose an action according to the softmax probabilities, only in this case ties have to be broken randomly in order for exploration to work.\n",
    "\n",
    "An annoying problem arose when calculating softmax probabilities. Unfortunately, this requires computing $exp(s)$. This will result in overflow errors pretty soon, as even $exp(1000)$ is an excessively large number. There exist some ways to deal with that, but in this case simply care was taken not to let the values exceed large numbers.\n",
    "\n",
    "An interesting observation for the cart pole task was that actually, the better the learned policy becomes, the longer the learning process takes. This is because the episodes will continue for a longer time if the agent chooses the optimal actions. This will also generalize to other episodic tasks of variable length."
   ]
  },
  {
   "cell_type": "code",
   "execution_count": 1,
   "metadata": {},
   "outputs": [],
   "source": [
    "from gym import make\n",
    "from gym.spaces.box import Box\n",
    "from gym.spaces.discrete import Discrete\n",
    "import numpy as np\n",
    "import matplotlib.pyplot as plt"
   ]
  },
  {
   "cell_type": "code",
   "execution_count": 2,
   "metadata": {},
   "outputs": [],
   "source": [
    "seed = 123  # Fix env seed for reproducibility"
   ]
  },
  {
   "cell_type": "code",
   "execution_count": 3,
   "metadata": {},
   "outputs": [
    {
     "data": {
      "text/plain": [
       "[123]"
      ]
     },
     "execution_count": 3,
     "metadata": {},
     "output_type": "execute_result"
    }
   ],
   "source": [
    "env = make('CartPole-v0')\n",
    "env.seed(seed)"
   ]
  },
  {
   "cell_type": "code",
   "execution_count": 4,
   "metadata": {},
   "outputs": [],
   "source": [
    "def softmax(x):\n",
    "    \"Computes the softmax probabilities of vector x\"\n",
    "#     scale = max(x.max(), abs(x.min())) / 5  # enables softmax computation with large values, but might be counterproductive depending on the succeeding steps\n",
    "    e = np.exp(x - np.max(x))\n",
    "#     e = np.exp(x)\n",
    "    return e / e.sum()\n",
    "\n",
    "def policy(state, theta):\n",
    "    \"Returns a probability distribution over the Action space for a given state and learnable parameters theta\"\n",
    "    return softmax(np.dot(theta, state))\n",
    "\n",
    "def value(state, w):\n",
    "    \"Returns the value of the given state using the learnable parameters w\"\n",
    "    return np.dot(state, w)\n",
    "\n",
    "def one_hot_encode(n, i):\n",
    "    \"One hot encodes a value i out of n possible values\"\n",
    "    encoding = np.zeros(n)\n",
    "    encoding[i] = 1\n",
    "    return encoding\n",
    "\n",
    "def convert_state(state, env):\n",
    "    \"Converts the state returned by `env.step()` to be useable by the algorithm\"\n",
    "    if type(env.observation_space) is Box:\n",
    "        state = state.astype(float)\n",
    "    elif type(env.observation_space) is Discrete:\n",
    "        state = one_hot_encode(env.observation_space.n, state)\n",
    "    return state"
   ]
  },
  {
   "cell_type": "code",
   "execution_count": 5,
   "metadata": {},
   "outputs": [],
   "source": [
    "def reinforce(env, alpha_theta, alpha_w=0., episodes=200, gamma=.9):\n",
    "    \"\"\"\n",
    "    Applies the REINFORCE algorithm to the given environment problem.\n",
    "    \n",
    "    Args:\n",
    "    - `env`: An instance of `gym.Env` which represents the task.\n",
    "    - `alpha_theta`: The step size for the learnable policy parameters.\n",
    "    - `alpha_w`: The step size for the learnable value parameters. If it is empty, REINFORCE without baseline is used.\n",
    "    - `episodes`: The amount of episodes to run the algorithm.\n",
    "    - `gamma`: The reward discounting factor.\n",
    "    \n",
    "    Returns:\n",
    "    - the policy parameters\n",
    "    - the steps needed per episode\n",
    "    - the return per episode\n",
    "    \"\"\"\n",
    "    assert(type(env.action_space) is Discrete)\n",
    "    assert(type(env.observation_space) is Box or type(env.observation_space) is Discrete)\n",
    "    baseline = alpha_w > 0\n",
    "    if type(env.observation_space) is Box:\n",
    "        theta = np.zeros((env.action_space.n, env.observation_space.shape[-1]))\n",
    "        w = np.zeros(env.observation_space.shape[-1])\n",
    "    elif type(env.observation_space) is Discrete:\n",
    "        theta = np.zeros((env.action_space.n, env.observation_space.n))\n",
    "        w = np.zeros(env.observation_space.n)\n",
    "    episode = 0\n",
    "    steps_per_episode = []\n",
    "    return_per_episode = []\n",
    "    while episode < episodes:\n",
    "        episode += 1\n",
    "        state = convert_state(env.reset(), env)  # state arrays might not be floats, but float is needed for calculations\n",
    "        states = [state]\n",
    "        rewards = []\n",
    "        action_probs = []\n",
    "        actions = []\n",
    "        done = False\n",
    "        while not done:\n",
    "            probs = policy(state, theta)\n",
    "            # Either sample randomly with probs as weights or greedily with breaking ties randomly\n",
    "            action = np.random.choice(range(env.action_space.n), p=probs)\n",
    "#             action = np.random.choice(np.flatnonzero(probs == probs.max()))\n",
    "            state_new, reward, done, _ = env.step(action)\n",
    "            state_new = convert_state(state_new, env)\n",
    "            state = state_new\n",
    "            actions.append(action)\n",
    "            action_probs.append(probs[action])\n",
    "            states.append(state_new)\n",
    "            rewards.append(reward)\n",
    "        for step in range(len(actions)):\n",
    "            gammas = np.cumprod(np.full(len(actions) - step, gamma))\n",
    "            return_ = rewards[step:] @ gammas\n",
    "            if baseline:\n",
    "                target = return_ - value(states[step], w)\n",
    "                w += alpha_w * target * states[step]\n",
    "            else:\n",
    "                target = return_\n",
    "            theta[actions[step]] += alpha_theta * gamma ** step * target * states[step]\n",
    "        steps_per_episode.append(len(actions))\n",
    "        return_per_episode.append(sum(rewards))\n",
    "    return theta, steps_per_episode, return_per_episode\n",
    "            "
   ]
  },
  {
   "cell_type": "code",
   "execution_count": 6,
   "metadata": {},
   "outputs": [],
   "source": [
    "def actor_critic(env, alpha_theta, alpha_w, lambda_theta=.5, lambda_w=.5, episodes=200, gamma=.9, eligibility=True):\n",
    "    \"\"\"\n",
    "    Applies the Actor-Critic algorithm to the given environment problem.\n",
    "    \n",
    "    Args:\n",
    "    - `env`: An instance of `gym.Env` which represents the task.\n",
    "    - `alpha_theta`: The step size for the learnable policy parameters.\n",
    "    - `alpha_w`: The step size for the learnable value parameters.\n",
    "    - `lambda_theta`: The hyperparameter for the eligibility trace of `theta`. Ignored if `eligibility=False`.\n",
    "    - `lambda_w`: The hyperparameter for the eligibility trace of `w`. Ignored if `eligibility=False`.\n",
    "    - `episodes`: The amount of episodes to run the algorithm.\n",
    "    - `gamma`: The reward discounting factor.\n",
    "    - `eligibility`: Whether to use the Actor-Critic variant with eligibility traces.\n",
    "    \n",
    "    Returns:\n",
    "    - the policy parameters\n",
    "    - the steps needed per episode\n",
    "    - the return per episode\n",
    "    \"\"\"\n",
    "    assert(type(env.action_space) is Discrete)\n",
    "    assert(type(env.observation_space) is Box or type(env.observation_space) is Discrete)\n",
    "    if type(env.observation_space) is Box:\n",
    "        theta = np.zeros((env.action_space.n, env.observation_space.shape[-1]))\n",
    "        w = np.zeros(env.observation_space.shape[-1])\n",
    "        if eligibility:\n",
    "            z_theta = np.zeros((env.action_space.n, env.observation_space.shape[-1]))\n",
    "            z_w = np.zeros(env.observation_space.shape[-1])\n",
    "    elif type(env.observation_space) is Discrete:\n",
    "        theta = np.zeros((env.action_space.n, env.observation_space.n))\n",
    "        w = np.zeros(env.observation_space.n)\n",
    "        if eligibility:\n",
    "            z_theta = np.zeros((env.action_space.n, env.observation_space.n))\n",
    "            z_w = np.zeros(env.observation_space.n)\n",
    "    episode = 0\n",
    "    steps_per_episode = []\n",
    "    return_per_episode = []\n",
    "    while episode < episodes:\n",
    "        episode += 1\n",
    "        state = convert_state(env.reset(), env)\n",
    "        rewards = []\n",
    "        I = 1\n",
    "        done = False\n",
    "        while not done:\n",
    "            probs = policy(state, theta)\n",
    "            action = np.random.choice(range(env.action_space.n), p=probs)\n",
    "#             action = np.random.choice(np.flatnonzero(probs == probs.max()))\n",
    "            state_new, reward, done, _ = env.step(action)\n",
    "            state_new = convert_state(state_new, env)\n",
    "            next_value = 0 if done else value(state_new, w)\n",
    "            target = reward + gamma * next_value - value(state, w)\n",
    "            if eligibility:\n",
    "                z_w = gamma * lambda_w * z_w + state\n",
    "                z_theta[action] = gamma * lambda_theta * z_theta[action] + I * state\n",
    "                w += alpha_w * target * z_w\n",
    "                theta[action] += alpha_theta * target * z_theta[action]\n",
    "            else:\n",
    "                w += alpha_w * target * state\n",
    "                theta[action] += alpha_theta * I * target * state\n",
    "            I *= gamma\n",
    "            state = state_new\n",
    "            rewards.append(reward)\n",
    "        steps_per_episode.append(len(rewards))\n",
    "        return_per_episode.append(sum(rewards))\n",
    "    return theta, steps_per_episode, return_per_episode\n",
    "            "
   ]
  },
  {
   "cell_type": "code",
   "execution_count": 7,
   "metadata": {},
   "outputs": [],
   "source": [
    "def run_experiment(env, algorithm, alpha_theta, alpha_w=0, gamma=.9, episodes=200, runs=100):\n",
    "    \"Runs the given algorithm multiple times and returns the resulting return and steps needed to per episode.\"\n",
    "    steps_per_run = np.empty((runs,episodes))\n",
    "    returns_per_run = np.empty((runs,episodes))\n",
    "    for run in range(runs):\n",
    "        theta, steps_per_episode, return_per_episode = algorithm(env, alpha_theta, alpha_w, gamma=gamma, episodes=episodes)\n",
    "        steps_per_run[run] = steps_per_episode\n",
    "        returns_per_run[run] = return_per_episode\n",
    "    return steps_per_run, returns_per_run"
   ]
  },
  {
   "cell_type": "code",
   "execution_count": 8,
   "metadata": {},
   "outputs": [
    {
     "name": "stdout",
     "output_type": "stream",
     "text": [
      "CPU times: user 1min 46s, sys: 57.8 ms, total: 1min 46s\n",
      "Wall time: 1min 46s\n"
     ]
    }
   ],
   "source": [
    "%%time\n",
    "steps_vanilla, returns_vanilla = run_experiment(env, reinforce, .01)"
   ]
  },
  {
   "cell_type": "code",
   "execution_count": 16,
   "metadata": {},
   "outputs": [
    {
     "name": "stdout",
     "output_type": "stream",
     "text": [
      "CPU times: user 2min 2s, sys: 72.1 ms, total: 2min 2s\n",
      "Wall time: 2min 2s\n"
     ]
    }
   ],
   "source": [
    "%%time\n",
    "steps_baseline, returns_baseline = run_experiment(env, reinforce, .01, .1)"
   ]
  },
  {
   "cell_type": "code",
   "execution_count": 13,
   "metadata": {},
   "outputs": [
    {
     "name": "stdout",
     "output_type": "stream",
     "text": [
      "CPU times: user 1min 8s, sys: 174 ms, total: 1min 8s\n",
      "Wall time: 1min 8s\n"
     ]
    }
   ],
   "source": [
    "%%time\n",
    "steps_ac, returns_ac = run_experiment(env, actor_critic, .1, .01)"
   ]
  },
  {
   "cell_type": "code",
   "execution_count": 17,
   "metadata": {},
   "outputs": [
    {
     "data": {
      "image/png": "[encoded data removed]",
      "text/plain": [
       "<Figure size 432x288 with 1 Axes>"
      ]
     },
     "metadata": {
      "needs_background": "light"
     },
     "output_type": "display_data"
    }
   ],
   "source": [
    "plt.plot(returns_vanilla.mean(axis=0), label=\"vanilla\")\n",
    "plt.plot(returns_baseline.mean(axis=0), label=\"baseline\")\n",
    "plt.plot(returns_ac.mean(axis=0), label=\"actor-critic\")\n",
    "plt.legend()\n",
    "plt.xlabel(\"Episode\")\n",
    "plt.ylabel(\"Return\")\n",
    "plt.show()"
   ]
  },
  {
   "cell_type": "markdown",
   "metadata": {},
   "source": [
    "The above plot shows the return for each episode averaged over 100 runs. Note that the (undiscounted) return of the CartPole task is simply the time steps spent in the episode. Episodes terminate after 200 steps, so 200 is the maximum return possible. It can be seen that no algorithm converges fully after 200 learning episodes, but all display significant improvement. The learning process was capped to 200 episodes since this already takes very long. The learning rate is also probably not optimal (probably too high), but lower learning rates simply took to long to converge.\n",
    "\n",
    "It is easy to see the difference between the offline REINFORCE algorithms and the online Actor-Critic algorithm. The former improves performance significantly in the initial episodes but then slowly linearly improves. One the other hand, the performance of the Actor-Critic algorithm grows nearly linear with the number of episodes from the start. One can assume that Actor-Critic will reach REINFORCE performance after more episodes. However, it must also be said that the Actor-Critic algorithm is computationally faster and requires less memory.\n",
    "\n",
    "In order to show the exploitive performance of the algorithms, their policy is tested and compared to the random agent below:"
   ]
  },
  {
   "cell_type": "code",
   "execution_count": 8,
   "metadata": {},
   "outputs": [],
   "source": [
    "def test_policy(env, theta=None, episodes=100):\n",
    "    \"Tests a learned policy by applying it to the given `env`. If `theta` is not given, a random policy is chosen.\"\n",
    "    steps_per_episode = []\n",
    "    returns = []\n",
    "    for episode in range(episodes):\n",
    "        state = convert_state(env.reset(), env)\n",
    "        env.render()\n",
    "        step = 0\n",
    "        rewards = []\n",
    "        done = False\n",
    "        while not done:\n",
    "            step += 1\n",
    "            if theta is None:\n",
    "                action = np.random.choice(env.action_space.n)\n",
    "            else:\n",
    "                probs = policy(state, theta)\n",
    "                action = np.random.choice(np.flatnonzero(probs == probs.max()))\n",
    "            state, reward, done, _ = env.step(action)\n",
    "            rewards.append(reward)\n",
    "            env.render()\n",
    "            state = convert_state(state, env)\n",
    "        steps_per_episode.append(step)\n",
    "        returns.append(sum(rewards))\n",
    "    env.close()\n",
    "    return returns, steps_per_episode"
   ]
  },
  {
   "cell_type": "code",
   "execution_count": 9,
   "metadata": {},
   "outputs": [
    {
     "name": "stdout",
     "output_type": "stream",
     "text": [
      "Random agent avg return: 21.67, avg steps per episode: 21.67\n"
     ]
    }
   ],
   "source": [
    "returns, steps_per_episode = test_policy(env)\n",
    "print(f\"Random agent avg return: {np.mean(returns)}, avg steps per episode: {np.mean(steps_per_episode)}\")"
   ]
  },
  {
   "cell_type": "code",
   "execution_count": 12,
   "metadata": {},
   "outputs": [
    {
     "name": "stdout",
     "output_type": "stream",
     "text": [
      "Vanilla REINFORCE avg return: 91.75, avg steps per episode: 91.75\n"
     ]
    }
   ],
   "source": [
    "theta, _, _ = reinforce(env, .01, episodes=200)\n",
    "returns, steps_per_episode = test_policy(env, theta)\n",
    "print(f\"Vanilla REINFORCE avg return: {np.mean(returns)}, avg steps per episode: {np.mean(steps_per_episode)}\")"
   ]
  },
  {
   "cell_type": "code",
   "execution_count": 14,
   "metadata": {},
   "outputs": [
    {
     "name": "stdout",
     "output_type": "stream",
     "text": [
      "REINFORCE with baseline avg return: 90.24, avg steps per episode: 90.24\n"
     ]
    }
   ],
   "source": [
    "theta, _, _ = reinforce(env, .01, .1)\n",
    "returns, steps_per_episode = test_policy(env, theta)\n",
    "print(f\"REINFORCE with baseline avg return: {np.mean(returns)}, avg steps per episode: {np.mean(steps_per_episode)}\")"
   ]
  },
  {
   "cell_type": "code",
   "execution_count": 15,
   "metadata": {},
   "outputs": [
    {
     "name": "stdout",
     "output_type": "stream",
     "text": [
      "Actor-Critic avg return: 86.16, avg steps per episode: 86.16\n"
     ]
    }
   ],
   "source": [
    "theta, _, _ = actor_critic(env, .1, .1, episodes=200)\n",
    "returns, steps_per_episode = test_policy(env, theta)\n",
    "print(f\"Actor-Critic avg return: {np.mean(returns)}, avg steps per episode: {np.mean(steps_per_episode)}\")"
   ]
  },
  {
   "cell_type": "markdown",
   "metadata": {},
   "source": [
    "It can be seen that the algorithms display better performance than the random agent, but still fail the task after ~ 90 steps. This is likely since the amount of learning episodes was not high enough for the rather simply function approximation used in this implementation."
   ]
  },
  {
   "cell_type": "code",
   "execution_count": null,
   "metadata": {},
   "outputs": [],
   "source": []
  }
 ],
 "metadata": {
  "kernelspec": {
   "display_name": "venv",
   "language": "python",
   "name": "venv"
  },
  "language_info": {
   "codemirror_mode": {
    "name": "ipython",
    "version": 3
   },
   "file_extension": ".py",
   "mimetype": "text/x-python",
   "name": "python",
   "nbconvert_exporter": "python",
   "pygments_lexer": "ipython3",
   "version": "3.7.6"
  }
 },
 "nbformat": 4,
 "nbformat_minor": 4
}
