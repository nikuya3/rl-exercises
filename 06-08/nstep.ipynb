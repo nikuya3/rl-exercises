{
 "cells": [
  {
   "cell_type": "markdown",
   "metadata": {},
   "source": [
    "# n-step Algorithm\n",
    "\n",
    "This notebook attempts to compare a correct n-step method with a method using the sum of TD errors. The difference between the two methods is that the value estimates are changing online within an episode for the first method. In theory, the methods are very similar but slightly different.\n",
    "\n",
    "Both methods used to solve a simple problem: the Random Walk MRP. The objective is to approximate the true value function correctly (called _prediction problem_ in the book). An experiment is conducted using a statistical test to find out whether the performance of the correct method is significantly better.\n",
    "\n",
    "The basic design is very similar to other notebooks.\n",
    "\n",
    "Some implementation difficulty that I face with Julia is that arrays start with 1 as opposed to 0 in other languages. This is not a problem per se - for the Reinforcement Learning algorithms in the book it is even advantageous - but it is hard to let go of the internal 0-based bias."
   ]
  },
  {
   "cell_type": "code",
   "execution_count": 17,
   "metadata": {},
   "outputs": [
    {
     "name": "stderr",
     "output_type": "stream",
     "text": [
      "┌ Info: Precompiling HypothesisTests [09f84164-cd44-5f33-b23f-e6b0d136a0d5]\n",
      "└ @ Base loading.jl:1260\n"
     ]
    }
   ],
   "source": [
    "using Statistics\n",
    "using HypothesisTests"
   ]
  },
  {
   "cell_type": "code",
   "execution_count": 2,
   "metadata": {},
   "outputs": [
    {
     "data": {
      "text/plain": [
       "10"
      ]
     },
     "execution_count": 2,
     "metadata": {},
     "output_type": "execute_result"
    }
   ],
   "source": [
    "gamma = 1.\n",
    "alpha = .2\n",
    "n = 10\n",
    "episodes = 10"
   ]
  },
  {
   "cell_type": "code",
   "execution_count": 3,
   "metadata": {},
   "outputs": [
    {
     "data": {
      "text/plain": [
       "act (generic function with 1 method)"
      ]
     },
     "execution_count": 3,
     "metadata": {},
     "output_type": "execute_result"
    }
   ],
   "source": [
    "mutable struct Walk\n",
    "    agent::Int64\n",
    "    num_states::Int64\n",
    "end\n",
    "\n",
    "reset_state(w::Walk) = w.agent = w.num_states ÷ 2\n",
    "\n",
    "function act(w::Walk)\n",
    "    if rand() < .5\n",
    "        w.agent += 1\n",
    "    else\n",
    "        w.agent -= 1\n",
    "    end\n",
    "    \n",
    "    reward = 0\n",
    "    episode_end = false\n",
    "    if w.agent >= num_states\n",
    "        reward = 1\n",
    "        episode_end = true\n",
    "    elseif w.agent <= 1\n",
    "        reward = -1\n",
    "        episode_end = true\n",
    "    end\n",
    "    reward, episode_end\n",
    "end"
   ]
  },
  {
   "cell_type": "code",
   "execution_count": 4,
   "metadata": {},
   "outputs": [
    {
     "data": {
      "text/plain": [
       "nstep"
      ]
     },
     "execution_count": 4,
     "metadata": {},
     "output_type": "execute_result"
    }
   ],
   "source": [
    "\"\"\"\n",
    "Applies nstep TD on the random walk MRP. Optionally uses unchanging value functions. Returns the value table.\n",
    "\"\"\"\n",
    "function nstep(w::Walk, n::Int64, episodes::Int64; gamma=gamma, alpha=alpha, changing=true)\n",
    "    values = zeros(w.num_states)\n",
    "    values_old = zeros(w.num_states)\n",
    "    for episode in 1:episodes\n",
    "        reset_state(w)\n",
    "        step = 0\n",
    "        episode_end = false\n",
    "        T = typemax(Int64)\n",
    "        tau = 0\n",
    "        rewards = []\n",
    "        states = []\n",
    "        while tau != T - 1\n",
    "            step += 1\n",
    "            if step <= T\n",
    "                reward, episode_end = act(w)\n",
    "                push!(rewards, reward)\n",
    "                push!(states, w.agent)\n",
    "                if episode_end\n",
    "                    T = step + 1\n",
    "                    reset_state(w)\n",
    "                end\n",
    "            end\n",
    "            tau = step - n + 1\n",
    "            if tau >= 1\n",
    "                return_step = min(tau + n, T)\n",
    "                gammas = cumprod(fill(gamma, return_step - tau))\n",
    "                G = sum(rewards[tau:return_step - 1] .* gammas)\n",
    "                G += tau + n < T ? gamma ^ n * values_old[states[tau + n - 1]] : 0\n",
    "                values[states[tau]] += alpha * (G - values_old[states[tau]])\n",
    "                if changing\n",
    "                    values_old[states[tau]] = values[states[tau]]\n",
    "                end\n",
    "            end\n",
    "        end\n",
    "        if !changing\n",
    "            values_old = values\n",
    "        end\n",
    "    end\n",
    "    \n",
    "    values\n",
    "end"
   ]
  },
  {
   "cell_type": "code",
   "execution_count": 5,
   "metadata": {},
   "outputs": [
    {
     "data": {
      "text/plain": [
       "Walk(10, 21)"
      ]
     },
     "execution_count": 5,
     "metadata": {},
     "output_type": "execute_result"
    }
   ],
   "source": [
    "num_states = 19 + 2\n",
    "agent = num_states ÷ 2\n",
    "walk = Walk(agent, num_states)"
   ]
  },
  {
   "cell_type": "code",
   "execution_count": 6,
   "metadata": {},
   "outputs": [
    {
     "data": {
      "text/plain": [
       "21-element Array{Float64,1}:\n",
       " -0.5904\n",
       " -0.8528203308174283\n",
       " -0.799320860656892\n",
       " -0.694034622393137\n",
       " -0.6916667051838917\n",
       " -0.5936317199939259\n",
       " -0.38876809556067105\n",
       "  0.19009150362652638\n",
       "  0.19947120955522937\n",
       "  0.21485636094652014\n",
       "  0.21707796472633872\n",
       "  0.5528741220452527\n",
       "  0.5735165318660564\n",
       "  0.5610515667203062\n",
       "  0.6203529386825122\n",
       "  0.721683548661922\n",
       "  0.7703373853255335\n",
       "  0.8357964412978435\n",
       "  0.9078156036703668\n",
       "  0.9158146268284806\n",
       "  0.7378560000000001"
      ]
     },
     "execution_count": 6,
     "metadata": {},
     "output_type": "execute_result"
    }
   ],
   "source": [
    "nstep(walk, n, episodes)"
   ]
  },
  {
   "cell_type": "code",
   "execution_count": 7,
   "metadata": {},
   "outputs": [
    {
     "data": {
      "text/plain": [
       "21-element Array{Float64,1}:\n",
       " -0.7378560000000001\n",
       " -0.7691466057621505\n",
       " -0.8344234718173119\n",
       " -0.7755481156423978\n",
       " -0.4870825749867077\n",
       " -0.3017102574585919\n",
       " -0.2511718167024796\n",
       " -0.26341645358740695\n",
       " -0.2426155344585718\n",
       " -0.01830383556051879\n",
       "  0.03978171923319583\n",
       "  0.03719922235414681\n",
       "  0.08387314268080258\n",
       "  0.16609085255404343\n",
       "  0.3272412831430848\n",
       "  0.3846884387502305\n",
       "  0.4318437244954966\n",
       "  0.5953649116779176\n",
       "  0.7424991367578111\n",
       "  0.7902848\n",
       "  0.5904"
      ]
     },
     "execution_count": 7,
     "metadata": {},
     "output_type": "execute_result"
    }
   ],
   "source": [
    "nstep(walk, n, episodes, changing=false)"
   ]
  },
  {
   "cell_type": "code",
   "execution_count": 8,
   "metadata": {},
   "outputs": [
    {
     "data": {
      "text/plain": [
       "21-element Array{Float64,1}:\n",
       " -1.0\n",
       " -0.9\n",
       " -0.8\n",
       " -0.7\n",
       " -0.6\n",
       " -0.5\n",
       " -0.4\n",
       " -0.3\n",
       " -0.2\n",
       " -0.1\n",
       "  0.0\n",
       "  0.1\n",
       "  0.2\n",
       "  0.3\n",
       "  0.4\n",
       "  0.5\n",
       "  0.6\n",
       "  0.7\n",
       "  0.8\n",
       "  0.9\n",
       "  1.0"
      ]
     },
     "execution_count": 8,
     "metadata": {},
     "output_type": "execute_result"
    }
   ],
   "source": [
    "half = walk.num_states ÷ 2\n",
    "true_values = collect(-half:half) ./ half"
   ]
  },
  {
   "cell_type": "code",
   "execution_count": 62,
   "metadata": {},
   "outputs": [
    {
     "data": {
      "text/plain": [
       "run_experiment (generic function with 1 method)"
      ]
     },
     "execution_count": 62,
     "metadata": {},
     "output_type": "execute_result"
    }
   ],
   "source": [
    "\"\"\"\n",
    "Runs the experiment multiple times.\n",
    "\"\"\"\n",
    "function run_experiment(n; changing=true)\n",
    "    runs = 100\n",
    "    metrics = zeros(runs)\n",
    "    for run in 1:runs\n",
    "        values = nstep(walk, n, episodes, changing=changing)\n",
    "        metric = sqrt(mean((values - true_values) .^ 2))\n",
    "        metrics[run] = metric\n",
    "    end\n",
    "    metrics\n",
    "end"
   ]
  },
  {
   "cell_type": "code",
   "execution_count": 57,
   "metadata": {},
   "outputs": [],
   "source": [
    "metrics_nstep = run_experiment(4);"
   ]
  },
  {
   "cell_type": "code",
   "execution_count": 58,
   "metadata": {},
   "outputs": [],
   "source": [
    "metrics_tdsum = run_experiment(4, changing=false);"
   ]
  },
  {
   "cell_type": "code",
   "execution_count": 68,
   "metadata": {},
   "outputs": [
    {
     "data": {
      "text/plain": [
       "Two sample t-test (equal variance)\n",
       "----------------------------------\n",
       "Population details:\n",
       "    parameter of interest:   Mean difference\n",
       "    value under h_0:         0\n",
       "    point estimate:          -0.00914756824809465\n",
       "    95% confidence interval: (-0.0178, -0.0005)\n",
       "\n",
       "Test summary:\n",
       "    outcome with 95% confidence: reject h_0\n",
       "    two-sided p-value:           0.0391\n",
       "\n",
       "Details:\n",
       "    number of observations:   [100,100]\n",
       "    t-statistic:              -2.076487997079754\n",
       "    degrees of freedom:       198\n",
       "    empirical standard error: 0.004405307548591291\n"
      ]
     },
     "execution_count": 68,
     "metadata": {},
     "output_type": "execute_result"
    }
   ],
   "source": [
    "EqualVarianceTTest(metrics_nstep, metrics_tdsum)"
   ]
  },
  {
   "cell_type": "markdown",
   "metadata": {},
   "source": [
    "In order to compare the two methods, they are evaluated using the root mean squared error to the true value over 100 runs. Then a statistical test can be used with two hypotheses and a significance level $\\alpha=0.05$:\n",
    "\n",
    "* $H_0$: the evaluation metrics for both methods come from the same distribution (i.e. both methods are similar in performance)\n",
    "* $H_A$: the evaluation metrics come from different distributions\n",
    "\n",
    "The above table displays the result of a two sample t-test, which concerns the mean $\\mu$ as distribution parameter. The result of the test is that $H_0$ can be rejected because the p-value is lower than $\\alpha$. This means that the performance of the correct n-step method is statistically significantly better than the performance of the sum of TD errors method.\n",
    "\n",
    "In order to make sure that the test is not skewed due to the non-robust assumptions, a Mann-Whitney U test is performed below."
   ]
  },
  {
   "cell_type": "code",
   "execution_count": 70,
   "metadata": {},
   "outputs": [
    {
     "data": {
      "text/plain": [
       "Approximate Mann-Whitney U test\n",
       "-------------------------------\n",
       "Population details:\n",
       "    parameter of interest:   Location parameter (pseudomedian)\n",
       "    value under h_0:         0\n",
       "    point estimate:          -0.006745996303989921\n",
       "\n",
       "Test summary:\n",
       "    outcome with 95% confidence: reject h_0\n",
       "    two-sided p-value:           0.0377\n",
       "\n",
       "Details:\n",
       "    number of observations in each group: [100, 100]\n",
       "    Mann-Whitney-U statistic:             4149.0\n",
       "    rank sums:                            [9199.0, 10901.0]\n",
       "    adjustment for ties:                  0.0\n",
       "    normal approximation (μ, σ):          (-851.0, 409.2676385936225)\n"
      ]
     },
     "execution_count": 70,
     "metadata": {},
     "output_type": "execute_result"
    }
   ],
   "source": [
    "MannWhitneyUTest(metrics_nstep, metrics_tdsum)"
   ]
  },
  {
   "cell_type": "code",
   "execution_count": null,
   "metadata": {},
   "outputs": [],
   "source": []
  }
 ],
 "metadata": {
  "kernelspec": {
   "display_name": "Julia 1.4.1",
   "language": "julia",
   "name": "julia-1.4"
  },
  "language_info": {
   "file_extension": ".jl",
   "mimetype": "application/julia",
   "name": "julia",
   "version": "1.4.2"
  }
 },
 "nbformat": 4,
 "nbformat_minor": 4
}
